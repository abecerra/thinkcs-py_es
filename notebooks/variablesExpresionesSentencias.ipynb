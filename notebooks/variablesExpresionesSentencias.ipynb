{
 "metadata": {
  "name": "variablesExpresionesSentencias"
 },
 "nbformat": 3,
 "nbformat_minor": 0,
 "worksheets": [
  {
   "cells": [
    {
     "cell_type": "heading",
     "level": 1,
     "metadata": {},
     "source": "Variables, expresiones y sentencias"
    },
    {
     "cell_type": "markdown",
     "metadata": {},
     "source": "Variables de los tipos mas b\u00e1sicos"
    },
    {
     "cell_type": "code",
     "collapsed": false,
     "input": "mensaje = \"\u00bfQu\u00e9 Onda?\"\nn = 17\npi = 3.14159",
     "language": "python",
     "metadata": {},
     "outputs": [],
     "prompt_number": 1
    },
    {
     "cell_type": "markdown",
     "metadata": {},
     "source": "Python es din\u00e1mico, se puede averiguar el tipo de dato de cada variable:"
    },
    {
     "cell_type": "code",
     "collapsed": false,
     "input": "type(mensaje)\ntype(n)\ntype(pi)",
     "language": "python",
     "metadata": {},
     "outputs": [
      {
       "metadata": {},
       "output_type": "pyout",
       "prompt_number": 2,
       "text": "float"
      }
     ],
     "prompt_number": 2
    },
    {
     "cell_type": "markdown",
     "metadata": {},
     "source": "La divisi\u00f3n es entera:"
    },
    {
     "cell_type": "code",
     "collapsed": false,
     "input": "59 / 60 ",
     "language": "python",
     "metadata": {},
     "outputs": [
      {
       "metadata": {},
       "output_type": "pyout",
       "prompt_number": 3,
       "text": "0"
      }
     ],
     "prompt_number": 3
    },
    {
     "cell_type": "markdown",
     "metadata": {},
     "source": "Si se quiere como flotante hay que forzarla (coerci\u00f3n)"
    },
    {
     "cell_type": "code",
     "collapsed": false,
     "input": "59 / 60.0",
     "language": "python",
     "metadata": {},
     "outputs": [
      {
       "metadata": {},
       "output_type": "pyout",
       "prompt_number": 4,
       "text": "0.9833333333333333"
      }
     ],
     "prompt_number": 4
    }
   ],
   "metadata": {}
  }
 ]
}