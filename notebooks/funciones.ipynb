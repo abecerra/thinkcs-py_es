{
 "metadata": {
  "name": "",
  "signature": "sha256:69df5204fef828e4212d7146165159424a89e921314ffdb648379a63fd76d2ef"
 },
 "nbformat": 3,
 "nbformat_minor": 0,
 "worksheets": [
  {
   "cells": [
    {
     "cell_type": "heading",
     "level": 1,
     "metadata": {},
     "source": [
      "Funciones"
     ]
    },
    {
     "cell_type": "markdown",
     "metadata": {},
     "source": [
      "Las funciones son soluciones a problemas espec\u00edficos, como calcular el valor absoluto de un n\u00famero"
     ]
    },
    {
     "cell_type": "code",
     "collapsed": false,
     "input": [
      "print abs(3),abs(-4), abs(5*4)"
     ],
     "language": "python",
     "metadata": {},
     "outputs": []
    },
    {
     "cell_type": "markdown",
     "metadata": {},
     "source": [
      "Unas funciones b\u00e1sicas son: type, id,"
     ]
    },
    {
     "cell_type": "code",
     "collapsed": false,
     "input": [
      "x = 4\n",
      "print type(x)\n",
      "print id (x)"
     ],
     "language": "python",
     "metadata": {},
     "outputs": []
    },
    {
     "cell_type": "markdown",
     "metadata": {},
     "source": [
      "type averigua el tipo de la expresi\u00f3n. \n",
      "id muestra la direcci\u00f3n de memoria de la expresi\u00f3n"
     ]
    }
   ],
   "metadata": {}
  }
 ]
}