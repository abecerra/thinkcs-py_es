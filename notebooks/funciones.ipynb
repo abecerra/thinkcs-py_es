{
 "metadata": {
  "name": "",
  "signature": "sha256:19b8e3f5298ac87be4310d8fe74c672625e80e401e93153872066d34d34ecc44"
 },
 "nbformat": 3,
 "nbformat_minor": 0,
 "worksheets": [
  {
   "cells": [
    {
     "cell_type": "heading",
     "level": 1,
     "metadata": {},
     "source": [
      "Funciones"
     ]
    },
    {
     "cell_type": "markdown",
     "metadata": {},
     "source": [
      "Las funciones son soluciones a problemas especficos, como calcular el valor absoluto de un numero"
     ]
    },
    {
     "cell_type": "code",
     "collapsed": false,
     "input": [
      "print(abs(3),abs(-4), abs(5*4))"
     ],
     "language": "python",
     "metadata": {},
     "outputs": [
      {
       "output_type": "stream",
       "stream": "stdout",
       "text": [
        "3 4 20\n"
       ]
      }
     ],
     "prompt_number": 1
    },
    {
     "cell_type": "markdown",
     "metadata": {},
     "source": [
      "Unas funciones basicas son: type, id,"
     ]
    },
    {
     "cell_type": "code",
     "collapsed": false,
     "input": [
      "x = 4\n",
      "print(type(x))\n",
      "print(id (x))"
     ],
     "language": "python",
     "metadata": {},
     "outputs": [
      {
       "output_type": "stream",
       "stream": "stdout",
       "text": [
        "<class 'int'>\n",
        "10914464\n"
       ]
      }
     ],
     "prompt_number": 2
    },
    {
     "cell_type": "markdown",
     "metadata": {},
     "source": [
      "type averigua el tipo de la expresion. \n",
      "id muestra la direccion de memoria de la expresion"
     ]
    }
   ],
   "metadata": {}
  }
 ]
}