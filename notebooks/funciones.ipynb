{
 "metadata": {
  "name": "",
  "signature": "sha256:b29156087efef727c949866150e8d31561df215761eafb304825c7d404fe6fed"
 },
 "nbformat": 3,
 "nbformat_minor": 0,
 "worksheets": [
  {
   "cells": [
    {
     "cell_type": "heading",
     "level": 1,
     "metadata": {},
     "source": [
      "Funciones"
     ]
    },
    {
     "cell_type": "markdown",
     "metadata": {},
     "source": [
      "Las funciones son soluciones a problemas especficos, como calcular el valor absoluto de un numero"
     ]
    },
    {
     "cell_type": "code",
     "collapsed": false,
     "input": [
      "print abs(3),abs(-4), abs(5*4)"
     ],
     "language": "python",
     "metadata": {},
     "outputs": []
    },
    {
     "cell_type": "markdown",
     "metadata": {},
     "source": [
      "Unas funciones basicas son: type, id,"
     ]
    },
    {
     "cell_type": "code",
     "collapsed": false,
     "input": [
      "x = 4\n",
      "print type(x)\n",
      "print id (x)"
     ],
     "language": "python",
     "metadata": {},
     "outputs": []
    },
    {
     "cell_type": "markdown",
     "metadata": {},
     "source": [
      "type averigua el tipo de la expresion. \n",
      "id muestra la direccion de memoria de la expresion"
     ]
    }
   ],
   "metadata": {}
  }
 ]
}